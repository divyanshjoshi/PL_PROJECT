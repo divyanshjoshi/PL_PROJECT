{
 "cells": [
  {
   "cell_type": "code",
   "execution_count": 3,
   "metadata": {},
   "outputs": [],
   "source": [
    "from nltk.sentiment.vader import SentimentIntensityAnalyzer\n",
    "\n",
    "\n",
    "def sentiment_scores(sentence): \n",
    "  \n",
    "    # Create a SentimentIntensityAnalyzer object. \n",
    "    Analyzer = SentimentIntensityAnalyzer() \n",
    "  \n",
    "    # polarity_scores method of SentimentIntensityAnalyzer \n",
    "    # oject gives a sentiment dictionary. \n",
    "    # which contains pos, neg, neu, and compound scores. \n",
    "    sentiment_dict = Analyzer.polarity_scores(sentence) \n",
    "    \n",
    "    # decide sentiment as positive, negative and neutral \n",
    "    if sentiment_dict['compound'] >= 0.05 : \n",
    "        overall = \"Positive\"\n",
    "  \n",
    "    elif sentiment_dict['compound'] <= - 0.05 : \n",
    "        overall = \"Negative\"\n",
    "  \n",
    "    else : \n",
    "        overall = \"Neutral\"\n",
    "    return {\"neg\":sentiment_dict['neg']*100, \"pos\":sentiment_dict['pos']*100, \"neu\":sentiment_dict['neu']*100, \"overall_rate\":overall }\n",
    "import json\n",
    "with open(r\"C:\\Users\\Divyansh Joshi\\Desktop\\Twitter_json_data.json\") as file:\n",
    "    content = json.loads(file.read())\n",
    "tweetlst=[]\n",
    "for tweet in content['tweet']:\n",
    "    tweetlst.append(content['tweet'][tweet]['text'])    \n",
    "sentiments_lst=[]\n",
    "for tweet in tweetlst:\n",
    "    sentiment = sentiment_scores(tweet)\n",
    "    sentiments_lst.append(sentiment)  \n",
    "with open(\"sentiment.json\",\"w\") as file:\n",
    "    json.dump(sentiments_lst, file)    "
   ]
  },
  {
   "cell_type": "code",
   "execution_count": null,
   "metadata": {},
   "outputs": [],
   "source": []
  }
 ],
 "metadata": {
  "kernelspec": {
   "display_name": "Python 3",
   "language": "python",
   "name": "python3"
  },
  "language_info": {
   "codemirror_mode": {
    "name": "ipython",
    "version": 3
   },
   "file_extension": ".py",
   "mimetype": "text/x-python",
   "name": "python",
   "nbconvert_exporter": "python",
   "pygments_lexer": "ipython3",
   "version": "3.7.3"
  }
 },
 "nbformat": 4,
 "nbformat_minor": 2
}
